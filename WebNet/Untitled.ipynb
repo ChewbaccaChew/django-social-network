{
 "cells": [
  {
   "cell_type": "code",
   "execution_count": 3,
   "id": "2ffc4b67",
   "metadata": {},
   "outputs": [],
   "source": [
    "from django.db import models\n",
    "from blog.models import Post"
   ]
  },
  {
   "cell_type": "code",
   "execution_count": 4,
   "id": "b6ccdc06",
   "metadata": {},
   "outputs": [],
   "source": [
    "post_test_title = Post.objects.create(title='ok')\n",
    "post_test_title.title = 'super'\n",
    "post_test_title.save()\n"
   ]
  },
  {
   "cell_type": "code",
   "execution_count": 6,
   "id": "b3585aae",
   "metadata": {},
   "outputs": [
    {
     "data": {
      "text/plain": [
       "<QuerySet ['super']>"
      ]
     },
     "execution_count": 6,
     "metadata": {},
     "output_type": "execute_result"
    }
   ],
   "source": [
    "Post.objects.values_list('title', flat=True)"
   ]
  },
  {
   "cell_type": "code",
   "execution_count": 1,
   "id": "89b62815",
   "metadata": {},
   "outputs": [
    {
     "data": {
      "text/plain": [
       "<QuerySet [<Post: Белый аист>, <Post: Воробей>]>"
      ]
     },
     "execution_count": 1,
     "metadata": {},
     "output_type": "execute_result"
    }
   ],
   "source": [
    "Post.objects.filter(author=1)"
   ]
  },
  {
   "cell_type": "code",
   "execution_count": 2,
   "id": "aa507c10",
   "metadata": {},
   "outputs": [
    {
     "data": {
      "text/plain": [
       "<QuerySet [<Post: Воробей>, <Post: Белый аист>]>"
      ]
     },
     "execution_count": 2,
     "metadata": {},
     "output_type": "execute_result"
    }
   ],
   "source": [
    "Post.objects.filter(author=1).order_by('-date_created')"
   ]
  },
  {
   "cell_type": "code",
   "execution_count": 1,
   "id": "c39d8f04",
   "metadata": {},
   "outputs": [
    {
     "data": {
      "text/plain": [
       "<QuerySet [<Post: Воробей>]>"
      ]
     },
     "execution_count": 1,
     "metadata": {},
     "output_type": "execute_result"
    }
   ],
   "source": [
    "Post.objects.filter(author=1).order_by('-date_created')[:1]"
   ]
  },
  {
   "cell_type": "markdown",
   "id": "d0c154cb",
   "metadata": {},
   "source": [
    "## Техническое задание\n",
    "1. Вывести все записи пользователя\n",
    "2. Отфильтровать, чтобы последняя была первой\n",
    "\n",
    "### Model\n",
    "QuerySet - выборка из БД с помощью API\n",
    "\n",
    "`Модель.менеджер.метод(аргументы)`\n",
    "\n",
    "`Post.objects.filter(author=1).order_by('-date_created')`\n",
    "\n",
    "### View\n",
    "`model`\n",
    "\n",
    "`class UserPostListView`\n",
    "\n",
    "`get_queryset()`\n",
    "\n",
    "`get_context_data()`\n",
    "\n",
    "`template_name`\n",
    "\n",
    "`context_object_name`\n",
    "\n",
    "`paginate_by`\n",
    "\n",
    "### URL\n",
    "`path`\n",
    "\n",
    "### Template\n",
    "`context_object_name`\n"
   ]
  },
  {
   "cell_type": "code",
   "execution_count": null,
   "id": "7a42bfcb",
   "metadata": {},
   "outputs": [],
   "source": []
  }
 ],
 "metadata": {
  "kernelspec": {
   "display_name": "Django Shell-Plus",
   "language": "python",
   "name": "django_extensions"
  },
  "language_info": {
   "codemirror_mode": {
    "name": "ipython",
    "version": 3
   },
   "file_extension": ".py",
   "mimetype": "text/x-python",
   "name": "python",
   "nbconvert_exporter": "python",
   "pygments_lexer": "ipython3",
   "version": "3.10.4"
  }
 },
 "nbformat": 4,
 "nbformat_minor": 5
}
